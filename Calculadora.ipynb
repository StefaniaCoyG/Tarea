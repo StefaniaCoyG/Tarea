{
  "nbformat": 4,
  "nbformat_minor": 0,
  "metadata": {
    "colab": {
      "provenance": [],
      "authorship_tag": "ABX9TyMCumyJD0F6GT/tKpYcbg0H",
      "include_colab_link": true
    },
    "kernelspec": {
      "name": "python3",
      "display_name": "Python 3"
    },
    "language_info": {
      "name": "python"
    }
  },
  "cells": [
    {
      "cell_type": "markdown",
      "metadata": {
        "id": "view-in-github",
        "colab_type": "text"
      },
      "source": [
        "<a href=\"https://colab.research.google.com/github/StefaniaCoyG/Tarea/blob/main/Calculadora.ipynb\" target=\"_parent\"><img src=\"https://colab.research.google.com/assets/colab-badge.svg\" alt=\"Open In Colab\"/></a>"
      ]
    },
    {
      "cell_type": "markdown",
      "source": [
        "**Carol Daniela Muñoz Diaz**\n",
        "\n",
        "**Stefania Coy Gomez**\n",
        "\n",
        "**Angie Michell Arevalo Sanchez**"
      ],
      "metadata": {
        "id": "XnenXozAw5Dn"
      }
    },
    {
      "cell_type": "code",
      "execution_count": null,
      "metadata": {
        "id": "4K_TrdKNqRn0",
        "outputId": "cb6a7296-6c2e-45ef-ba8c-f2ba0a0b6adb",
        "colab": {
          "base_uri": "https://localhost:8080/"
        }
      },
      "outputs": [
        {
          "output_type": "stream",
          "name": "stdout",
          "text": [
            "Bienvenido \n",
            "Por favor, digite su clave (4 dígitos)\n"
          ]
        }
      ],
      "source": [
        "import random\n",
        "import time\n",
        "\n",
        "saldo = random.randint(5000, 10000000)\n",
        "\n",
        "print(\"Bienvenido \\nPor favor, digite su clave (4 dígitos)\")\n",
        "\n",
        "# Validación de clave de 4 dígitos\n",
        "while True:\n",
        "    clave = input()\n",
        "    if clave.isdigit() and len(clave) == 4:  # Verifica que sean solo números y de 4 dígitos\n",
        "        clave = int(clave)  # Convierte a entero solo después de validar\n",
        "        break\n",
        "    else:\n",
        "        print(\"Error: La clave debe contener exactamente 4 dígitos numéricos. Inténtelo de nuevo.\")\n",
        "\n",
        "print(\"\\nElija una opción: \\n[1] Consultar mi saldo \\n[2] Depositar \\n[3] Retirar \\n[4] Transferir \\n[5] Salir \\n\")\n",
        "\n",
        "while True:\n",
        "    while True:\n",
        "        try:\n",
        "            opcion = int(input())\n",
        "            if 1 <= opcion <= 5:\n",
        "                break\n",
        "            else:\n",
        "                print(\"Por favor, digite una opción válida\")\n",
        "        except ValueError:\n",
        "            print(\"Por favor, digite una opción válida\")\n",
        "\n",
        "    if opcion == 1:\n",
        "        print(\"Su saldo es de:\", saldo)\n",
        "        time.sleep(1)\n",
        "        print(\"\\nElija una opción: \\n[1] Consultar mi saldo \\n[2] Depositar \\n[3] Retirar \\n[4] Transferir \\n[5] Salir \\n\")\n",
        "\n",
        "    elif opcion == 2:\n",
        "        while True:\n",
        "            try:\n",
        "                deposito = int(input(\"Digite el valor que desea agregar a la cuenta: \"))\n",
        "                saldo += deposito\n",
        "                time.sleep(1)\n",
        "                print(\"Hecho\")\n",
        "                print(\"\\nElija una opción: \\n[1] Consultar mi saldo \\n[2] Depositar \\n[3] Retirar \\n[4] Transferir \\n[5] Salir \\n\")\n",
        "                break\n",
        "            except ValueError:\n",
        "                print(\"Por favor, digite algo válido\")\n",
        "\n",
        "    elif opcion == 3:\n",
        "        while True:\n",
        "            try:\n",
        "                retirado = int(input(\"Digite el valor que desea retirar de su cuenta: \"))\n",
        "                if saldo >= retirado:\n",
        "                    saldo -= retirado\n",
        "                    time.sleep(1)\n",
        "                    print(\"Hecho\")\n",
        "                    print(\"\\nElija una opción: \\n[1] Consultar mi saldo \\n[2] Depositar \\n[3] Retirar \\n[4] Transferir \\n[5] Salir \\n\")\n",
        "                    break\n",
        "                else:\n",
        "                    print(\"Saldo insuficiente\")\n",
        "            except ValueError:\n",
        "                print(\"Digite una opción válida\")\n",
        "\n",
        "    elif opcion == 4:\n",
        "        while True:\n",
        "            try:\n",
        "                transferir = int(input(\"Digite el valor que desea retirar de su cuenta: \"))\n",
        "                if saldo >= transferir:\n",
        "                    saldo -= transferir\n",
        "                    while True:\n",
        "                        transferido = input(\"Digite el código de la cuenta a la que desea transferir (10 caracteres): \")\n",
        "                        if len(transferido) == 10 and transferido.isdigit():\n",
        "                            print(\"Transferencia exitosa\")\n",
        "                            break\n",
        "                        else:\n",
        "                            print(\"Error: El código de cuenta debe tener exactamente 10 caracteres numéricos.\")\n",
        "                    time.sleep(1)\n",
        "                    print(\"Hecho\")\n",
        "                    print(\"\\nElija una opción: \\n[1] Consultar mi saldo \\n[2] Depositar \\n[3] Retirar \\n[4] Transferir \\n[5] Salir \\n\")\n",
        "                    break\n",
        "                else:\n",
        "                    print(\"Saldo insuficiente\")\n",
        "            except ValueError:\n",
        "                print(\"Digite una opción válida\")\n",
        "\n",
        "    else:\n",
        "        time.sleep(1)\n",
        "        print(\"Gracias por su confianza, vuelva pronto\")\n",
        "        break  # Se acaba el bucle"
      ]
    }
  ]
}