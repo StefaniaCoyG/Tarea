{
  "nbformat": 4,
  "nbformat_minor": 0,
  "metadata": {
    "colab": {
      "provenance": [],
      "authorship_tag": "ABX9TyPn/tLZXNWlq206OorvnAoV",
      "include_colab_link": true
    },
    "kernelspec": {
      "name": "python3",
      "display_name": "Python 3"
    },
    "language_info": {
      "name": "python"
    }
  },
  "cells": [
    {
      "cell_type": "markdown",
      "metadata": {
        "id": "view-in-github",
        "colab_type": "text"
      },
      "source": [
        "<a href=\"https://colab.research.google.com/github/StefaniaCoyG/Tarea/blob/main/CoyStefania_A00408203.ipynb\" target=\"_parent\"><img src=\"https://colab.research.google.com/assets/colab-badge.svg\" alt=\"Open In Colab\"/></a>"
      ]
    },
    {
      "cell_type": "markdown",
      "source": [
        "#<font color=\"bb8fce\">**Autobiografía:**</font>\n",
        "><font color=\"d6eaf8\">*Mi nombre es Stefania Coy llevo alrededor de 11 años viviendo en Cali, nací en Bogotá el 2 de octubre del 2005*</font>\n",
        ">><font color=\"a9dfbf\">*actualmente estoy estudiando Química y me gustaría hacer simultaneidad con biología.*</font>\n",
        ">>><font color=\"cd6155\">*Me encantan los animales, por lo mismo mi familia tiene 4 mascotas (dos perritas y dos gaticos),donde un gatica y perrita son mías.*</font>\n",
        ">>>><font color=\"2e86c1\">*Me gusta la música y la practico de forma empírica, de hecho en el colegio participe la banda oficial la cual participo en el musical, en donde forme parte de la cantantes. Antes de participar en el musical tocaba la guitarra.*</font>\n",
        ">>>>><font color=\"#f7dc6f\">*En mi tiempo libre me gusta tejer, actualmente estoy haciendo un saco en crochet. también me gusta dibujar, aunque lo deje un poco de lado.*</font>\n",
        "\n",
        ">>>><font color= \"884ea0\">*Un dato extra es que cada vez que escucho una canción que me parece interesante me tomo mi tiempo para tratar de separar los instrumentos.*</font>\n",
        "\n",
        ">>><font color=\"99a3a4\">*Académicamente me considero algo mala con las matemáticas, pero si le pongo algo de empeño se soluciona.*</font>\n",
        "\n",
        ">><font color=\"1abc9c\">*Curiosamente no soy mala en las ciencias, aunque las mismas necesiten de la matemáticas, es curioso como comprendo de forma mas rápida la matemáticas que relacionan con física, química y biología.*</font>\n",
        "\n"
      ],
      "metadata": {
        "id": "pSR_6SJ29ztk"
      }
    }
  ]
}