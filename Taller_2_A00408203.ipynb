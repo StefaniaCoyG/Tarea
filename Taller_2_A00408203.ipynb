{
  "nbformat": 4,
  "nbformat_minor": 0,
  "metadata": {
    "colab": {
      "provenance": [],
      "authorship_tag": "ABX9TyMWod5Rx0CvhJPZB7SNHiQR",
      "include_colab_link": true
    },
    "kernelspec": {
      "name": "python3",
      "display_name": "Python 3"
    },
    "language_info": {
      "name": "python"
    }
  },
  "cells": [
    {
      "cell_type": "markdown",
      "metadata": {
        "id": "view-in-github",
        "colab_type": "text"
      },
      "source": [
        "<a href=\"https://colab.research.google.com/github/StefaniaCoyG/Tarea/blob/main/Taller_2_A00408203.ipynb\" target=\"_parent\"><img src=\"https://colab.research.google.com/assets/colab-badge.svg\" alt=\"Open In Colab\"/></a>"
      ]
    },
    {
      "cell_type": "markdown",
      "source": [
        "**Carol Daniela Muñoz Diaz**\n",
        "\n",
        "**Stefania Coy Gomez**\n",
        "\n",
        "**Angie Michell Arevalo Sanchez**"
      ],
      "metadata": {
        "id": "ejCzwDjQKHWY"
      }
    },
    {
      "cell_type": "code",
      "source": [
        "import numpy as np\n"
      ],
      "metadata": {
        "id": "BFUDoAC24ONY"
      },
      "execution_count": 2,
      "outputs": []
    },
    {
      "cell_type": "markdown",
      "source": [
        "**Punto 1**"
      ],
      "metadata": {
        "id": "X1VQw3i0kZHQ"
      }
    },
    {
      "cell_type": "code",
      "source": [
        "def es_primo(n):\n",
        "  if n < 2:\n",
        "    return False\n",
        "  for i in range(2, int(n**0.5)+1):\n",
        "    if n % i == 0:\n",
        "            return False\n",
        "    return True\n",
        "\n",
        "def filtrar_primos(lista):\n",
        "    return [num for num in lista if es_primo(num)]\n",
        "numeros = list(range(100))\n",
        "primos = filtrar_primos(numeros)\n",
        "print(primos)"
      ],
      "metadata": {
        "colab": {
          "base_uri": "https://localhost:8080/"
        },
        "id": "kArSaDcykdQR",
        "outputId": "1ee5b82e-5c0c-464d-d247-2ae28a90c5b4"
      },
      "execution_count": 7,
      "outputs": [
        {
          "output_type": "stream",
          "name": "stdout",
          "text": [
            "[5, 7, 9, 11, 13, 15, 17, 19, 21, 23, 25, 27, 29, 31, 33, 35, 37, 39, 41, 43, 45, 47, 49, 51, 53, 55, 57, 59, 61, 63, 65, 67, 69, 71, 73, 75, 77, 79, 81, 83, 85, 87, 89, 91, 93, 95, 97, 99]\n"
          ]
        }
      ]
    },
    {
      "cell_type": "markdown",
      "source": [
        "**Punto 2**"
      ],
      "metadata": {
        "id": "bGVurpQtkl6_"
      }
    },
    {
      "cell_type": "code",
      "source": [
        "def elementos_comunes(lista1, lista2):\n",
        "    return [num for num in lista1 if num in lista2]\n",
        "\n",
        "lista_a = list(range(10))\n",
        "lista_b = list (range(20))\n",
        "resultado = elementos_comunes(lista_a, lista_b)\n",
        "print(resultado)"
      ],
      "metadata": {
        "colab": {
          "base_uri": "https://localhost:8080/"
        },
        "id": "0fPDvbk9krA1",
        "outputId": "91ed2568-42c4-49f9-bea8-db88b4127a23"
      },
      "execution_count": 8,
      "outputs": [
        {
          "output_type": "stream",
          "name": "stdout",
          "text": [
            "[0, 1, 2, 3, 4, 5, 6, 7, 8, 9]\n"
          ]
        }
      ]
    },
    {
      "cell_type": "markdown",
      "source": [
        "**Punto 3**"
      ],
      "metadata": {
        "id": "KtYJe7yqkuf_"
      }
    },
    {
      "cell_type": "code",
      "source": [
        "def lista_a_matriz(lista):\n",
        "  if type(lista) is list:\n",
        "    n = (len(lista))**(1/2)\n",
        "    nr = round(n)\n",
        "    if nr**2 == n**2:\n",
        "      matrix = []\n",
        "      for j in range(0,nr):\n",
        "        temp = lista[nr*j:nr*(j+1)]\n",
        "        matrix = matrix + [temp]\n",
        "      print(matrix,\"\\n\")\n",
        "    else:\n",
        "      print(\"La lista no corresponde a una matriz cuadrada\\n\")\n",
        "  else:\n",
        "    print(\"La entrada no es una lista\\n\")\n",
        "\n",
        "lista_a_matriz(\"xd\")\n",
        "lista_a_matriz(2)\n",
        "lista_a_matriz(\"hp\")\n",
        "lista_a_matriz([1,2,3,4,5,6,7,8,9])\n",
        "lista_a_matriz([1,2,3])\n",
        "lista_a_matriz([1,2])"
      ],
      "metadata": {
        "colab": {
          "base_uri": "https://localhost:8080/"
        },
        "id": "dRXLfNMmk0QB",
        "outputId": "d429ae73-2299-4888-f699-159f165c23c4"
      },
      "execution_count": 9,
      "outputs": [
        {
          "output_type": "stream",
          "name": "stdout",
          "text": [
            "La entrada no es una lista\n",
            "\n",
            "La entrada no es una lista\n",
            "\n",
            "La entrada no es una lista\n",
            "\n",
            "[[1, 2, 3], [4, 5, 6], [7, 8, 9]] \n",
            "\n",
            "La lista no corresponde a una matriz cuadrada\n",
            "\n",
            "La lista no corresponde a una matriz cuadrada\n",
            "\n"
          ]
        }
      ]
    },
    {
      "cell_type": "markdown",
      "source": [
        "**Punto 4**"
      ],
      "metadata": {
        "id": "MEBJdtDJk6KG"
      }
    },
    {
      "cell_type": "code",
      "source": [
        "def calcular_estadisticas(numeros): #El \"def\" se usa para definir una funcion y poderla llamar en otro momento\n",
        "    #el calcular_estadistica es el nombre para la funcion\n",
        "    #y el \"numeros\" entre parentesis son sus parametros que son para que la funcion pueda funcionar\n",
        "\n",
        "    media = sum(numeros) / len(numeros) #el \"sum(numeros)\" es para sumar los numeros de la lista cuyo nombre es \"numeros\"\n",
        "    #y el \"len(numeros)\" es para mostrar la cantidad de datos totales\n",
        "\n",
        "    cantidad_total_de_numeros = len(numeros)\n",
        "    mitad = cantidad_total_de_numeros // 2 #el \"//\" es para dividir y que no de decimales\n",
        "    #en el caso de decimales, redondea hacia bajo si es impar\n",
        "\n",
        "    for i in range(cantidad_total_de_numeros):\n",
        "        for j in range(cantidad_total_de_numeros - 1 - i):\n",
        "            if numeros[j] > numeros[j + 1]:\n",
        "                numeros[j], numeros[j + 1] = numeros[j + 1], numeros[j]\n",
        "  #Metodo burbuja\n",
        "\n",
        "    if cantidad_total_de_numeros % 2 == 0:\n",
        "        mediana = (numeros[mitad - 1] + numeros[mitad]) / 2\n",
        "    else:\n",
        "        mediana = numeros[mitad]\n",
        "\n",
        "    frecuencia = {}\n",
        "    for num in numeros:\n",
        "        frecuencia[num] = frecuencia.get(num, 0) + 1\n",
        "\n",
        "    max_frecuencia = max(frecuencia.values())\n",
        "    moda = [num for num, freq in frecuencia.items() if freq == max_frecuencia]\n",
        "\n",
        "    return {\n",
        "        \"Media\": media,\n",
        "        \"Mediana\": mediana,\n",
        "        \"Moda\": moda\n",
        "    }\n",
        "\n",
        "# Ejemplo de uso\n",
        "numeros = [1, 2, 2, 3, 4, 4, 5]\n",
        "resultado = calcular_estadisticas(numeros)\n",
        "print(resultado)"
      ],
      "metadata": {
        "colab": {
          "base_uri": "https://localhost:8080/"
        },
        "id": "G1_2xh1hk-GE",
        "outputId": "8fe9ab18-b688-40b5-861b-89fb59d1c677"
      },
      "execution_count": 10,
      "outputs": [
        {
          "output_type": "stream",
          "name": "stdout",
          "text": [
            "{'Media': 3.0, 'Mediana': 3, 'Moda': [2, 4]}\n"
          ]
        }
      ]
    },
    {
      "cell_type": "markdown",
      "source": [
        "**Punto 5**"
      ],
      "metadata": {
        "id": "YTS2tukdlIK7"
      }
    },
    {
      "cell_type": "code",
      "source": [
        "#Definir funcion\n",
        "def pago(precios,cantidades):\n",
        "  total = 0\n",
        "  if len(precios) == len(cantidades):\n",
        "    for i in range(0,len(precios)):\n",
        "      costo = precios[i] * cantidades[i]\n",
        "      total = total + costo\n",
        "    if total > 100:\n",
        "      total = total - (total * 0.1)\n",
        "  else:\n",
        "    print(\"La lista de precios y cantidades no son iguales\")\n",
        "  print(total)\n",
        "pago([1,3,5],[2,3,100])"
      ],
      "metadata": {
        "colab": {
          "base_uri": "https://localhost:8080/"
        },
        "id": "Pi4k-N44lKMp",
        "outputId": "1c9b4aec-5f4f-42ae-8908-9562b3463b53"
      },
      "execution_count": 11,
      "outputs": [
        {
          "output_type": "stream",
          "name": "stdout",
          "text": [
            "459.9\n"
          ]
        }
      ]
    },
    {
      "cell_type": "markdown",
      "source": [
        "**Punto 6**"
      ],
      "metadata": {
        "id": "GGnZFpTilN8p"
      }
    },
    {
      "cell_type": "code",
      "source": [
        "def actualizar_inventario(inventario, vendidos):\n",
        "\n",
        "    inventario_actualizado = inventario.copy()\n",
        "\n",
        "    for producto in vendidos:\n",
        "        if producto in inventario_actualizado:\n",
        "            inventario_actualizado.remove(producto)\n",
        "\n",
        "    return inventario_actualizado\n",
        "\n",
        "# Ejemplo de uso\n",
        "inventario = [\"manzana\", \"banana\", \"pera\", \"naranja\", \"manzana\"]\n",
        "vendidos = [\"manzana\", \"pera\"]\n",
        "\n",
        "resultado = actualizar_inventario(inventario, vendidos)\n",
        "print(resultado)  # Salida esperada: ['banana', 'naranja', 'manzana']"
      ],
      "metadata": {
        "colab": {
          "base_uri": "https://localhost:8080/"
        },
        "id": "l8tLxSS8lRXe",
        "outputId": "e15c6980-e931-4b37-ccea-d68e73314834"
      },
      "execution_count": 12,
      "outputs": [
        {
          "output_type": "stream",
          "name": "stdout",
          "text": [
            "['banana', 'naranja', 'manzana']\n"
          ]
        }
      ]
    },
    {
      "cell_type": "markdown",
      "source": [
        "**Punto 7**"
      ],
      "metadata": {
        "id": "thLoZwuflVbw"
      }
    },
    {
      "cell_type": "code",
      "source": [
        "def cat_temperatura(temperatura):\n",
        "  caso1 = caso2 = caso3 = 0\n",
        "  for i in range(0,len(temperatura)):\n",
        "    if temperatura[i] > 30:\n",
        "      caso1 = caso1 + 1\n",
        "    elif 20 <= temperatura[i] <= 30:\n",
        "      caso2 = caso2 + 1\n",
        "    elif temperatura[i] < 20:\n",
        "      caso3 = caso3 + 1\n",
        "  print(\"La temperatura supero los 30° Celsius: \",caso1,\" veces\")\n",
        "  print(\"La temperatura estuvo entre 20° y 30° Celsius: \",caso2,\" veces\")\n",
        "  print(\"La temperatura estuvo por debajo de 20° Celsius: \",caso3,\" veces\")\n",
        "\n",
        "cat_temperatura([20,45,70,100,-100,200,3,23,34])"
      ],
      "metadata": {
        "colab": {
          "base_uri": "https://localhost:8080/"
        },
        "id": "2uXesbpUlYA2",
        "outputId": "05615ce8-b308-43e0-d229-a67f3887d84b"
      },
      "execution_count": 13,
      "outputs": [
        {
          "output_type": "stream",
          "name": "stdout",
          "text": [
            "La temperatura supero los 30° Celsius:  5  veces\n",
            "La temperatura estuvo entre 20° y 30° Celsius:  2  veces\n",
            "La temperatura estuvo por debajo de 20° Celsius:  2  veces\n"
          ]
        }
      ]
    },
    {
      "cell_type": "markdown",
      "source": [
        "**Punto 8**"
      ],
      "metadata": {
        "id": "rvMAjITDlbXt"
      }
    },
    {
      "cell_type": "code",
      "source": [
        "def consumo(cantidad,calorias):\n",
        "  if len(cantidad) == len(calorias):\n",
        "    total = 0\n",
        "    for i in range(0,len(cantidad)):\n",
        "      total = total + (cantidad[i] * calorias[i])\n",
        "    if total > 2000:\n",
        "      print(\"Se ha superado las 2000 calorias diarias\")\n",
        "    else:\n",
        "      print(\"No se ha superado las 2000 calorias diarias\")\n",
        "  else:\n",
        "    print(\"La lista de alimentos consumidos no es igual que la lista de calorias\")\n",
        "\n",
        "consumo([1,2,3],[30,50,300])"
      ],
      "metadata": {
        "colab": {
          "base_uri": "https://localhost:8080/"
        },
        "id": "AmvVoqeOleXU",
        "outputId": "fd87b235-7061-4f16-fcdc-dd7e2ce99100"
      },
      "execution_count": 14,
      "outputs": [
        {
          "output_type": "stream",
          "name": "stdout",
          "text": [
            "No se ha superado las 2000 calorias diarias\n"
          ]
        }
      ]
    },
    {
      "cell_type": "code",
      "source": [
        "def calcular_calorias(alimentos, calorias):\n",
        "    total_calorias = sum(calorias)\n",
        "\n",
        "    mensaje = (f\"Calorías consumidas: {total_calorias} kcal.\")\n",
        "    if total_calorias > 2000:\n",
        "        mensaje += \" Has superado el límite diario recomendado de 2000 kcal.\"\n",
        "\n",
        "    return mensaje\n",
        "\n",
        "# Ejemplo de uso\n",
        "alimentos = [\"Manzana\", \"Pan\", \"Pollo\", \"Pasta\", \"Helado\"]\n",
        "calorias = [95, 200, 400, 600, 350]\n",
        "\n",
        "resultado = calcular_calorias(alimentos, calorias)\n",
        "print(resultado)"
      ],
      "metadata": {
        "colab": {
          "base_uri": "https://localhost:8080/"
        },
        "id": "7Jl3zWe0lynp",
        "outputId": "8d803c61-70a0-432a-aff8-de9c5dcf1219"
      },
      "execution_count": 15,
      "outputs": [
        {
          "output_type": "stream",
          "name": "stdout",
          "text": [
            "Calorías consumidas: 1645 kcal.\n"
          ]
        }
      ]
    },
    {
      "cell_type": "markdown",
      "source": [
        "**Punto 9**"
      ],
      "metadata": {
        "id": "DiwQK9v-lrwg"
      }
    },
    {
      "cell_type": "code",
      "source": [
        "def promedio():\n",
        "    ventas_mensuales = []\n",
        "    while True:\n",
        "        ventas = int(input(\"Digite la venta (0 para finalizar): \"))\n",
        "        if ventas == 0:\n",
        "            break\n",
        "        ventas_mensuales.append(ventas)\n",
        "    return ventas_mensuales\n",
        "\n",
        "ventas_mensuales = promedio()\n",
        "\n",
        "venta_promedio = np.mean(ventas_mensuales)\n",
        "venta_mayor_alpromedio = [i for i in ventas_mensuales if i > venta_promedio]\n",
        "\n",
        "print(f\"El promedio de ventas mensuales es: {venta_promedio:.2f}\")\n",
        "print(f\"Ventas mayores al promedio: {venta_mayor_alpromedio}\")\n"
      ],
      "metadata": {
        "colab": {
          "base_uri": "https://localhost:8080/"
        },
        "id": "tlBIj1ZVibpQ",
        "outputId": "2b31c113-da50-4168-d89b-b97ac961b47f"
      },
      "execution_count": 6,
      "outputs": [
        {
          "output_type": "stream",
          "name": "stdout",
          "text": [
            "Digite la venta (0 para finalizar): 20\n",
            "Digite la venta (0 para finalizar): 30\n",
            "Digite la venta (0 para finalizar): 60\n",
            "Digite la venta (0 para finalizar): 0\n",
            "El promedio de ventas mensuales es: 36.67\n",
            "Ventas mayores al promedio: [60]\n"
          ]
        }
      ]
    },
    {
      "cell_type": "markdown",
      "source": [
        "**Punto 10**"
      ],
      "metadata": {
        "id": "cTn3b8komXTm"
      }
    },
    {
      "cell_type": "code",
      "source": [
        "def descuento(total):\n",
        "  if 50 <= total  <= 100:\n",
        "    total = total - (total*0.05)\n",
        "  elif 100 < total < 200:\n",
        "    total = total - (total*0.1)\n",
        "  elif total >= 200:\n",
        "    total = total - (total*0.15)\n",
        "  print(\"Aplicando el descuento, el total es:\",total)\n",
        "\n",
        "descuento(145.3)"
      ],
      "metadata": {
        "colab": {
          "base_uri": "https://localhost:8080/"
        },
        "id": "glWD4ZoLmZ7o",
        "outputId": "5d81cee9-119b-42e8-a8b0-18752a57f8d7"
      },
      "execution_count": 17,
      "outputs": [
        {
          "output_type": "stream",
          "name": "stdout",
          "text": [
            "Aplicando el descuento, el total es: 130.77\n"
          ]
        }
      ]
    },
    {
      "cell_type": "markdown",
      "source": [
        "**Punto 11**"
      ],
      "metadata": {
        "id": "HXF5UrscmeaH"
      }
    },
    {
      "cell_type": "code",
      "source": [
        "def pacientes_prioritarios(nombres, edades):\n",
        "    \"\"\"\n",
        "    Recibe una lista de nombres y una lista de edades de pacientes.\n",
        "    Devuelve una lista de pacientes mayores de 60 años con atención prioritaria.\n",
        "    \"\"\"\n",
        "    prioritarios = [nombres[i] for i in range(len(nombres)) if edades[i] > 60]\n",
        "    return prioritarios\n",
        "\n",
        "# Ejemplo de uso\n",
        "nombres_pacientes = [\"Juan\", \"María\", \"Carlos\", \"Ana\", \"Luis\"]\n",
        "edades_pacientes = [45, 62, 70, 30, 80]\n",
        "\n",
        "resultado = pacientes_prioritarios(nombres_pacientes, edades_pacientes)\n",
        "print(\"Pacientes con atención prioritaria:\", resultado)"
      ],
      "metadata": {
        "colab": {
          "base_uri": "https://localhost:8080/"
        },
        "id": "d0kit01ZmiQn",
        "outputId": "35028b9e-6110-4ca2-e1fc-f610c3519ec9"
      },
      "execution_count": 18,
      "outputs": [
        {
          "output_type": "stream",
          "name": "stdout",
          "text": [
            "Pacientes con atención prioritaria: ['María', 'Carlos', 'Luis']\n"
          ]
        }
      ]
    },
    {
      "cell_type": "markdown",
      "source": [
        "**Punto 12**"
      ],
      "metadata": {
        "id": "jt_jY6wOmlny"
      }
    },
    {
      "cell_type": "code",
      "source": [
        "def tgastos(tipo,dinero):\n",
        "  total = 0\n",
        "  for i in range(0,len(dinero)):\n",
        "    total = dinero[i] + total\n",
        "  maximo = max(dinero)\n",
        "  j = dinero.index(maximo)\n",
        "  categoria = tipo[j]\n",
        "  #print(\"El gasto total es:\",total,\"\\nEl gasto mas grande fue:\",categoria,\" con un valor de:\",maximo)\n",
        "  print(\"El gasto total es:\",total)\n",
        "  print(\"El gasto mas grande fue:\",categoria)\n",
        "  print(\"con un valor de:\",maximo)\n",
        "tgastos([\"alquiler\",\"mercado\",\"seguro\",\"netflix\"],[100,200,300,400])"
      ],
      "metadata": {
        "colab": {
          "base_uri": "https://localhost:8080/"
        },
        "id": "e7AMUGTlmoTM",
        "outputId": "4f1b4bb1-e73a-44ef-bfdd-a15d5125f32a"
      },
      "execution_count": 19,
      "outputs": [
        {
          "output_type": "stream",
          "name": "stdout",
          "text": [
            "El gasto total es: 1000\n",
            "El gasto mas grande fue: netflix\n",
            "con un valor de: 400\n"
          ]
        }
      ]
    },
    {
      "cell_type": "markdown",
      "source": [
        "**Punto 13**"
      ],
      "metadata": {
        "id": "oVN6NeyDmtVa"
      }
    },
    {
      "cell_type": "code",
      "source": [
        "def no_asistieron(registrados, asistentes):\n",
        "    faltantes = []\n",
        "\n",
        "    for registrado in registrados:\n",
        "        encontrado = False\n",
        "        for asistente in asistentes:\n",
        "            if registrado == asistente:\n",
        "                encontrado = True\n",
        "                break\n",
        "        if not encontrado:\n",
        "            faltantes.append(registrado)\n",
        "\n",
        "    return faltantes\n",
        "\n",
        "# Ejemplo de uso\n",
        "registrados = [\"Ana\", \"Juan\", \"Pedro\", \"Luis\", \"Maria\"]\n",
        "asistentes = [\"Ana\", \"Pedro\", \"Maria\"]\n",
        "\n",
        "faltantes = no_asistieron(registrados, asistentes)\n",
        "print(f\"Personas que no asistieron: {faltantes}\")"
      ],
      "metadata": {
        "colab": {
          "base_uri": "https://localhost:8080/"
        },
        "id": "JxLsFhiHmvrD",
        "outputId": "65237009-096c-490b-ae4a-a5f6add19e1c"
      },
      "execution_count": 20,
      "outputs": [
        {
          "output_type": "stream",
          "name": "stdout",
          "text": [
            "Personas que no asistieron: ['Juan', 'Luis']\n"
          ]
        }
      ]
    },
    {
      "cell_type": "markdown",
      "source": [
        "**Punto 14**"
      ],
      "metadata": {
        "id": "5wNapldXm2Ar"
      }
    },
    {
      "cell_type": "code",
      "source": [
        "def Promedio_semanal():\n",
        "  dias = [\"Lunes\",\"Martes\",\"Miercoles\",\"Jueves\",\"Viernes\",\"Sabado\",\"Domingo\"]\n",
        "  suma = 0\n",
        "\n",
        "  for i in dias:\n",
        "    while True:\n",
        "      try:\n",
        "        minutos = int(input(f\"Cuantos minutos de ejercicio hizo en {i}: \"))\n",
        "        if minutos >= 0:\n",
        "          suma += minutos\n",
        "          break\n",
        "        else:\n",
        "          print(\"Por favor digite un valor por encima de 0\")\n",
        "      except ValueError:\n",
        "        print(\"Por favor digite un valor numerico\")\n",
        "  promedio = suma/len(dias)\n",
        "\n",
        "  if promedio > 60:\n",
        "    print(f\"El promedio de minutos de ejercicio por dia fue de {promedio} horas, excelente estas en forma\")\n",
        "  elif promedio >= 30:\n",
        "    print(f\"El promedio de minutos de ejercicio por dia fue de {promedio}, buen trabajo, pero puedes mejorar\")\n",
        "  else:\n",
        "    print(f\"El promedio de minutos de ejercicio por dia fue de {promedio} minutos, debes hacer mas ejercicio\")\n",
        "\n",
        "Promedio_semanal()"
      ],
      "metadata": {
        "id": "qPZC7TKeF3x-",
        "colab": {
          "base_uri": "https://localhost:8080/"
        },
        "outputId": "f44c4e8c-b147-4038-baf5-66bd4af72775"
      },
      "execution_count": 4,
      "outputs": [
        {
          "output_type": "stream",
          "name": "stdout",
          "text": [
            "Cuantos minutos de ejercicio hizo en Lunes: 10\n",
            "Cuantos minutos de ejercicio hizo en Martes: 20\n",
            "Cuantos minutos de ejercicio hizo en Miercoles: 30\n",
            "Cuantos minutos de ejercicio hizo en Jueves: 40\n",
            "Cuantos minutos de ejercicio hizo en Viernes: 100\n",
            "Cuantos minutos de ejercicio hizo en Sabado: 205\n",
            "Cuantos minutos de ejercicio hizo en Domingo: 3000\n",
            "El promedio de minutos de ejercicio por dia fue de 486.42857142857144 horas, excelente estas en forma\n"
          ]
        }
      ]
    }
  ]
}