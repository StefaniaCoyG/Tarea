{
  "nbformat": 4,
  "nbformat_minor": 0,
  "metadata": {
    "colab": {
      "provenance": [],
      "authorship_tag": "ABX9TyPRDzAAoBXmPuW8K90rnxuX",
      "include_colab_link": true
    },
    "kernelspec": {
      "name": "python3",
      "display_name": "Python 3"
    },
    "language_info": {
      "name": "python"
    }
  },
  "cells": [
    {
      "cell_type": "markdown",
      "metadata": {
        "id": "view-in-github",
        "colab_type": "text"
      },
      "source": [
        "<a href=\"https://colab.research.google.com/github/StefaniaCoyG/Tarea/blob/main/Taller_1_A00408203.ipynb\" target=\"_parent\"><img src=\"https://colab.research.google.com/assets/colab-badge.svg\" alt=\"Open In Colab\"/></a>"
      ]
    },
    {
      "cell_type": "markdown",
      "source": [
        "##Punto 1\n",
        ">**1. Área lateral de un cilindro**\n",
        "\n",
        "\n",
        "$A = 2\\pi rg$\n",
        "\n",
        "$ r = \\frac{A}{2πrg} $\n",
        "\n",
        ">**2. Volumen del cono**\n",
        "\n",
        "$V=\\frac{A_Bh}{3}$\n",
        "\n",
        "$h=\\frac{3V}{A_B}$\n",
        "\n",
        ">**3. Volumen de la esfera**\n",
        "\n",
        "$V=\\frac{4}{3} \\cdot \\pi \\cdot r^{3}$\n",
        "\n",
        "$r=\\sqrt[3]{\\frac{3V}{4\\pi}}$\n",
        "\n",
        ">**4. Área del trapecio**\n",
        "\n",
        "$A=\\frac{B+b}{2} \\cdot h$\n",
        "\n",
        "$h=\\frac{2A}{B+b}$\n",
        "\n",
        ">**5. Intesidad eléctrica**\n",
        "\n",
        "$I=\\frac{V_A-V_B}{R}$\n",
        "\n",
        "$V_B=V_A-I \\cdot R$\n",
        ">**6. Ley de Ohm**\n",
        "\n",
        "$ I = \\frac{V}{R} $\n",
        "\n",
        "$R  = \\frac{V}{I} $\n",
        "\n",
        ">**7. Energía electrica**\n",
        "\n",
        "$ E = \\frac{V^{2}}{R}\\cdot t $\n",
        "\n",
        "$t  = \\frac{ER}{V^{2}} $\n",
        "\n",
        ">**8. Resistencias en paralelo**\n",
        "\n",
        "$ \\frac{1}{R} = \\frac{1}{R_1}+\\frac{1}{R_2}$\n",
        "\n",
        "$ R = \\frac{R_1 R_2}{R_1+R_2}$\n",
        "\n",
        ">**9. Ecuación de gases perfectos**\n",
        "\n",
        "$ \\frac{P_0V_0}{T_0} = \\frac{P_fV_f}{T_f}$\n",
        "\n",
        "$ P_f = \\frac{P_0V_0T_2}{T_0V_f}$\n",
        "\n",
        ">**10. Intesidad Eléctrica**\n",
        "\n",
        "$I=\\frac{V_A-V_B}{R}$\n",
        "\n",
        "$V_B=V_A-I \\cdot R$\n"
      ],
      "metadata": {
        "id": "fU9bEq5O-_XX"
      }
    },
    {
      "cell_type": "markdown",
      "source": [
        "#Punto 2"
      ],
      "metadata": {
        "id": "KjCap-9ObrIe"
      }
    },
    {
      "cell_type": "code",
      "source": [
        "resultado_primer_ejercicio = (3 * (-5 + 10 + (-5)) - 2 * ((-2) + (-4) + 10)) ** 2\n",
        "print(resultado_primer_ejercicio)\n",
        "\n",
        "resultado_segundo_ejercicio = 45 + (3 * (2 + 8) - 8 / 4) + 10 - 83\n",
        "print(resultado_segundo_ejercicio)\n",
        "\n",
        "resultado_tercer_ejercicio = ((-4 + 7) * 2 - 10) * (-4) - 7 - 3\n",
        "print(resultado_tercer_ejercicio)"
      ],
      "metadata": {
        "colab": {
          "base_uri": "https://localhost:8080/"
        },
        "id": "kqchx7T5bwJR",
        "outputId": "d8c8fa66-220f-4946-c486-5cabb489609c"
      },
      "execution_count": 1,
      "outputs": [
        {
          "output_type": "stream",
          "name": "stdout",
          "text": [
            "64\n",
            "0.0\n",
            "6\n"
          ]
        }
      ]
    },
    {
      "cell_type": "markdown",
      "source": [
        "#Punto 3"
      ],
      "metadata": {
        "id": "D7k9kJMlb4Gn"
      }
    },
    {
      "cell_type": "code",
      "source": [
        "resultado1 = (1/5) * ((1/2)**2 + (3/4)**2) + (10/25) * ((1/2)**2 + (3/4)**2) + (8/40) * ((1/2)**2 + (3/4)**2)\n",
        "print(resultado1)\n",
        "\n",
        "resultado2 = (9/4) * (6/8)-1 - (5/2) * (25/20)-1 + (40/8) * (20/16)-1\n",
        "print(resultado2)"
      ],
      "metadata": {
        "colab": {
          "base_uri": "https://localhost:8080/"
        },
        "id": "TCKWj1TSb76W",
        "outputId": "5343a42e-b8bb-4926-8752-c4f957dcb1a3"
      },
      "execution_count": 2,
      "outputs": [
        {
          "output_type": "stream",
          "name": "stdout",
          "text": [
            "0.65\n",
            "1.8125\n"
          ]
        }
      ]
    },
    {
      "cell_type": "markdown",
      "source": [
        "# Punto 4"
      ],
      "metadata": {
        "id": "-99NInvpcBKA"
      }
    },
    {
      "cell_type": "code",
      "source": [
        "nombre=str(input(\"Diga su nombre: \"))\n",
        "peso=float(input(\"Diga su peso en Kg: \"))\n",
        "altura=float(input(\"Diga su altura en metros: \"))\n",
        "print('Su IMC es',peso//(altura**2))"
      ],
      "metadata": {
        "colab": {
          "base_uri": "https://localhost:8080/"
        },
        "id": "LUL4tjaCcEiV",
        "outputId": "5ee3fb9b-3843-441d-9ebe-21efd2e961b2"
      },
      "execution_count": 4,
      "outputs": [
        {
          "output_type": "stream",
          "name": "stdout",
          "text": [
            "Diga su nombre: Stefania\n",
            "Diga su peso en Kg: 57\n",
            "Diga su altura en metros: 1.54\n",
            "Su IMC es 24.0\n"
          ]
        }
      ]
    },
    {
      "cell_type": "markdown",
      "source": [
        "# Punto 5"
      ],
      "metadata": {
        "id": "IiqURy9bcSsH"
      }
    },
    {
      "cell_type": "code",
      "source": [
        "numero1=int(input(\"Diga un número: \"))\n",
        "numero2=int(input(\"Diga otro número: \"))\n",
        "print('el resultado de la suma es',numero1+numero2)\n",
        "print('el resultado de la resta es',numero1-numero2)\n",
        "print('el resultado de la multiplicación es',numero1*numero2)\n",
        "\n",
        "if numero2 != 0:\n",
        "    print('el resultado de la división es', numero1/numero2)\n",
        "else:\n",
        "    print(\"No es posible dividir entre cero.\")\n"
      ],
      "metadata": {
        "colab": {
          "base_uri": "https://localhost:8080/"
        },
        "id": "0NF-RdfbcUyd",
        "outputId": "3b66d571-7f2c-42fc-be4b-6b78848936a8"
      },
      "execution_count": 5,
      "outputs": [
        {
          "output_type": "stream",
          "name": "stdout",
          "text": [
            "Diga un número: 9\n",
            "Diga otro número: 2\n",
            "el resultado de la suma es 11\n",
            "el resultado de la resta es 7\n",
            "el resultado de la multiplicación es 18\n",
            "el resultado de la división es 4.5\n"
          ]
        }
      ]
    },
    {
      "cell_type": "markdown",
      "source": [
        "# Punto 6"
      ],
      "metadata": {
        "id": "gLSta6-mccO9"
      }
    },
    {
      "cell_type": "code",
      "source": [
        "precio_barril_petroleosemana=[77.8,78.31,77.22,76.21,76.45,77.17,76.9] #En dólares\n",
        "preciococacola_febrerotrece=1.09 #dólares\n",
        "litros_por_barril = 158.987\n",
        "precio_barril_coca = preciococacola_febrerotrece * litros_por_barril  # Precio barril de Coca-Cola\n",
        "\n",
        "# Relación petróleo / Coca-Cola\n",
        "relacion_petrol_coca = [(precio_petroleo / precio_barril_coca) for precio_petroleo in precio_barril_petroleosemana] #Se crea una variale temporal para el loop y así operar en cada valor de la lista de precios del barril de petróleo en la semana\n",
        "\n",
        "print(f\"El precio de los barriles de petróleo en la semana fueron: {precio_barril_petroleosemana}, el precio de la cocacola en dólares es: {preciococacola_febrerotrece}\")\n",
        "print(f\"El precio del barril de cocacola entonces sería de {precio_barril_coca}, y la relación  petróleo / cocacola es: {relacion_petrol_coca}\")\n",
        "print(\"En conclusión el precio de los barriles de petróleo siempre fue menor en el transcurso de la semana al precio de un barril de cocacola \")"
      ],
      "metadata": {
        "colab": {
          "base_uri": "https://localhost:8080/"
        },
        "id": "FcAfBoOmcjTh",
        "outputId": "f6759e26-8a54-4556-b715-58b84700db91"
      },
      "execution_count": 6,
      "outputs": [
        {
          "output_type": "stream",
          "name": "stdout",
          "text": [
            "El precio de los barriles de petróleo en la semana fueron: [77.8, 78.31, 77.22, 76.21, 76.45, 77.17, 76.9], el precio de la cocacola en dólares es: 1.09\n",
            "El precio del barril de cocacola entonces sería de 173.29583, y la relación  petróleo / cocacola es: [0.4489432896336859, 0.4518862340773001, 0.4455964116389875, 0.43976822754477124, 0.4411531425770603, 0.4453078876739273, 0.4437498582626022]\n",
            "En conclusión el precio de los barriles de petróleo siempre fue menor en el transcurso de la semana al precio de un barril de cocacola \n"
          ]
        }
      ]
    }
  ]
}